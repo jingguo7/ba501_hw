{
 "cells": [
  {
   "cell_type": "code",
   "execution_count": null,
   "metadata": {},
   "outputs": [],
   "source": []
  },
  {
   "cell_type": "code",
   "execution_count": 16,
   "metadata": {},
   "outputs": [
    {
     "data": {
      "text/html": [
       "<script>jQuery(function() {if (jQuery(\"body.notebook_app\").length == 0) { jQuery(\".input_area\").toggle(); jQuery(\".prompt\").toggle();}});</script>"
      ]
     },
     "metadata": {},
     "output_type": "display_data"
    },
    {
     "data": {
      "text/html": [
       "<button onclick=\"jQuery('.input_area').toggle(); jQuery('.prompt').toggle();\">Toggle code</button>"
      ]
     },
     "metadata": {},
     "output_type": "display_data"
    }
   ],
   "source": [
    "from IPython.display import display\n",
    "from IPython.display import HTML\n",
    "import IPython.core.display as di # Example: di.display_html('<h3>%s:</h3>' % str, raw=True)\n",
    "\n",
    "# This line will hide code by default when the notebook is exported as HTML\n",
    "di.display_html('<script>jQuery(function() {if (jQuery(\"body.notebook_app\").length == 0) { jQuery(\".input_area\").toggle(); jQuery(\".prompt\").toggle();}});</script>', raw=True)\n",
    "\n",
    "# This line will add a button to toggle visibility of code blocks, for use with the HTML export version\n",
    "di.display_html('''<button onclick=\"jQuery('.input_area').toggle(); jQuery('.prompt').toggle();\">Toggle code</button>''', raw=True)"
   ]
  },
  {
   "cell_type": "code",
   "execution_count": 17,
   "metadata": {
    "collapsed": true
   },
   "outputs": [],
   "source": [
    "import numpy as np\n",
    "import pandas as pd\n",
    "import scipy"
   ]
  },
  {
   "cell_type": "code",
   "execution_count": 19,
   "metadata": {},
   "outputs": [
    {
     "name": "stdout",
     "output_type": "stream",
     "text": [
      "11\n",
      "python\n"
     ]
    }
   ],
   "source": [
    "# number\n",
    "x = 5\n",
    "y = 6\n",
    "print(x + y)\n",
    "\n",
    "# string\n",
    "my_string = \"python\"\n",
    "print(my_string)"
   ]
  },
  {
   "cell_type": "code",
   "execution_count": 28,
   "metadata": {},
   "outputs": [
    {
     "name": "stdout",
     "output_type": "stream",
     "text": [
      "6\n",
      "my python\n",
      "my python is level 10\n",
      "h\n",
      "n\n",
      "PYTHON\n",
      "pyyyython\n",
      "1\n"
     ]
    }
   ],
   "source": [
    "# length of a string\n",
    "print(len(my_string))\n",
    "\n",
    "# concatenation\n",
    "print(\"my \" + my_string)\n",
    "\n",
    "# coercion\n",
    "print(\"my \" + my_string + \" is level \" + str(x))\n",
    "\n",
    "# visit a character: 0-index\n",
    "print(my_string[3])\n",
    "print(my_string[-1]) ###负号代表从后往前数的顺序\n",
    "\n",
    "# string manipulations\n",
    "print(my_string.upper()) ###\"upper\" means using upper case.\n",
    "print(my_string.replace(\"y\", \"yyyy\"))\n",
    "print(my_string.find(\"y\")) ###\"find\" means to find the letter's index(序数)."
   ]
  },
  {
   "cell_type": "code",
   "execution_count": 42,
   "metadata": {},
   "outputs": [
    {
     "name": "stdout",
     "output_type": "stream",
     "text": [
      "['red', 'blue', 'green']\n",
      "red\n",
      "3\n",
      "['red', 'blue', 'green', 'yellow']\n",
      "['red', 'pink', 'blue', 'green', 'yellow']\n",
      "['red', 'blue', 'green', 'yellow']\n",
      "1\n"
     ]
    }
   ],
   "source": [
    "colors = [\"red\", \"blue\", \"green\"]\n",
    "print(colors)\n",
    "print(colors[0])\n",
    "print(len(colors)) \n",
    "\n",
    "# manipulation\n",
    "# append at the bottom\n",
    "colors.append(\"yellow\") ###\"append\" means to add a new one next to the last one. \n",
    "print(colors)\n",
    "\n",
    "# insert at any position\n",
    "colors.insert(1, \"pink\")\n",
    "print(colors)\n",
    "\n",
    "# remove an element\n",
    "colors.pop(1)\n",
    "print(colors)\n",
    "\n",
    "# search for an element\n",
    "colors.index(\"green\")\n",
    "\n",
    "# quiz: what if there's duplicate\n",
    "colors = [\"red\", \"blue\", \"blue\", \"green\"]\n",
    "print(colors.index(\"blue\"))\n",
    "\n",
    "# quiz: what about other stuff? remove duplicate?\n",
    "# answer: use numpy which handles this type of stuff"
   ]
  },
  {
   "cell_type": "code",
   "execution_count": 24,
   "metadata": {},
   "outputs": [
    {
     "name": "stdout",
     "output_type": "stream",
     "text": [
      "No\n"
     ]
    }
   ],
   "source": [
    "# if/else. simple example\n",
    "x = 10\n",
    "if x == 5:\n",
    "    print(\"Yes\")\n",
    "else:\n",
    "    print(\"No\")"
   ]
  },
  {
   "cell_type": "code",
   "execution_count": 25,
   "metadata": {},
   "outputs": [
    {
     "name": "stdout",
     "output_type": "stream",
     "text": [
      "License and registration please\n",
      "I'm going to have to write you a ticket.\n"
     ]
    }
   ],
   "source": [
    "# if/else. complex example\n",
    "speed = 82\n",
    "mood = \"bad\"\n",
    "\n",
    "if speed >= 80:\n",
    "    print 'License and registration please'\n",
    "    if mood == 'terrible' or speed >= 100:\n",
    "        print 'You have the right to remain silent.'\n",
    "    elif mood == 'bad' or speed >= 90:\n",
    "        print \"I'm going to have to write you a ticket.\"\n",
    "    else:\n",
    "        print \"Let's try to keep it under 80 ok?\""
   ]
  },
  {
   "cell_type": "code",
   "execution_count": 26,
   "metadata": {},
   "outputs": [
    {
     "name": "stdout",
     "output_type": "stream",
     "text": [
      "2\n",
      "3\n",
      "5\n",
      "7\n"
     ]
    }
   ],
   "source": [
    "# for loop\n",
    "primes = [2, 3, 5, 7]\n",
    "for prime in primes:\n",
    "    print(prime)"
   ]
  },
  {
   "cell_type": "code",
   "execution_count": 27,
   "metadata": {},
   "outputs": [
    {
     "name": "stdout",
     "output_type": "stream",
     "text": [
      "2\n",
      "5.7\n"
     ]
    }
   ],
   "source": [
    "# tuple yizudongxi&can not change &similar to \"list\"\n",
    "my_tuple = (\"price\", 5.7)\n",
    "print(len(my_tuple))\n",
    "print(my_tuple[1])"
   ]
  },
  {
   "cell_type": "code",
   "execution_count": 32,
   "metadata": {},
   "outputs": [
    {
     "name": "stdout",
     "output_type": "stream",
     "text": [
      "[[1]\n",
      " [2]]\n",
      "[[1 2]]\n",
      "[[1 2 3]\n",
      " [3 4 5]]\n"
     ]
    }
   ],
   "source": [
    "# create a column vector\n",
    "col_vec = np.array([[1], [2]])\n",
    "print col_vec\n",
    "    \n",
    "# create a row vector\n",
    "row_vec = np.array([[1, 2]])\n",
    "print row_vec\n",
    "    \n",
    "# create a matrix\n",
    "my_matrix = np.array([[1, 2, 3], [3, 4, 5]])\n",
    "print my_matrix\n",
    "    \n"
   ]
  },
  {
   "cell_type": "code",
   "execution_count": 34,
   "metadata": {},
   "outputs": [
    {
     "name": "stdout",
     "output_type": "stream",
     "text": [
      "matrix rows 2 columns 3\n",
      "transposed matrix\n",
      "[[1 3]\n",
      " [2 4]\n",
      " [3 5]]\n",
      "a + b\n",
      "[[2 4]\n",
      " [6 8]]\n",
      "a - b\n",
      "[[0 0]\n",
      " [0 0]]\n",
      "a * b\n",
      "[[ 1  4]\n",
      " [ 9 16]]\n"
     ]
    }
   ],
   "source": [
    "# inspect dimensions\n",
    "shape = my_matrix.shape\n",
    "print \"matrix rows\", shape[0], \"columns\", shape[1] ###\"shape\" is all about the numbers of rows and columns of a matrix.\n",
    "    \n",
    "# transpose\n",
    "my_matrix_t = my_matrix.transpose()\n",
    "print \"transposed matrix\"\n",
    "print my_matrix_t\n",
    "\n",
    "# matrix calculation \n",
    "# addition\n",
    "a = np.array([[1, 2], [3, 4]])\n",
    "b = np.array([[1, 2], [3, 4]])\n",
    "print \"a + b\"\n",
    "print a + b\n",
    "\n",
    "# subtraction\n",
    "print \"a - b\"\n",
    "print a - b\n",
    "\n",
    "# multiplication (meaningless)\n",
    "print \"a * b\"\n",
    "print a * b\n",
    "\n"
   ]
  },
  {
   "cell_type": "code",
   "execution_count": 52,
   "metadata": {},
   "outputs": [
    {
     "name": "stdout",
     "output_type": "stream",
     "text": [
      "[1 2 3 4]\n",
      "4\n",
      "10\n",
      "4\n",
      "2.5\n",
      "[1 2 4 5]\n",
      "5\n",
      "[4 5]\n",
      "[1 2 2 4 5 6]\n",
      "[ 1  2  2 -2  4  5]\n",
      "[1 4 5]\n"
     ]
    }
   ],
   "source": [
    "# matrix product\n",
    "# print \"matrix product\"\n",
    "# print np.dot(A, B) ###https://www.youtube.com/watch?v=sYlOjyPyX3g 要看。\n",
    "\n",
    "# more interesting stuff:\n",
    "# on 1d array, which is essentially a list.\n",
    "my_array = np.array([1, 2, 3, 4])\n",
    "print(my_array) #[1,2,3,4]\n",
    "print(len(my_array)) #4\n",
    "print(my_array.sum()) #10\n",
    "print(my_array.max()) #4\n",
    "print(my_array.mean()) #2.5\n",
    "# my_list = [1,2,3,4]\n",
    "# print(my_list.sum()) returned Error\n",
    "\n",
    "# quiz:\n",
    "my_array = np.array([1, 2, 2, 4, 5])\n",
    "print(np.unique(my_array)) #[1,2,4,5]\n",
    "\n",
    "# other stuff:\n",
    "# subset\n",
    "print(my_array[-1]) #5\n",
    "print(my_array[my_array>2]) # the inside my_array>2 will return the index of which number>2; \n",
    "                            # the outer my_array will return the numbers of which index you returned last step.\n",
    "# add/remove element\n",
    "print(np.append(my_array, 6)) # *\n",
    "print(np.insert(my_array, 3, -2)) # the first number means the index of the number you want to insert;\n",
    "                                  # the second number means the number you need to insert. \n",
    "print(np.delete(my_array, [1,2])) # the numbers mean index!"
   ]
  },
  {
   "cell_type": "code",
   "execution_count": 50,
   "metadata": {},
   "outputs": [
    {
     "name": "stdout",
     "output_type": "stream",
     "text": [
      "  customer_id       date  spend\n",
      "0           A   5/1/2017     10\n",
      "1           B   5/8/2017      5\n",
      "2           C  5/11/2017     20\n",
      "(3, 3)\n",
      "0    10\n",
      "1     5\n",
      "2    20\n",
      "Name: spend, dtype: int64\n",
      "  customer_id  spend\n",
      "0           A     10\n",
      "1           B      5\n",
      "2           C     20\n",
      "  customer_id      date  spend\n",
      "1           B  5/8/2017      5\n",
      "  customer_id      date  spend\n",
      "0           A  5/1/2017     10\n"
     ]
    }
   ],
   "source": [
    "df = pd.DataFrame(\n",
    "    data = {\n",
    "        \"customer_id\": [\"A\", \"B\", \"C\"],\n",
    "        \"date\": [\"5/1/2017\", \"5/8/2017\", \"5/11/2017\"],  \n",
    "        \"spend\": [10, 5, 20]\n",
    "    },\n",
    "  # index = [1, 2, 3],\n",
    "    columns = [\"customer_id\", \"date\", \"spend\"]\n",
    ")\n",
    "print(df)\n",
    "# https://pandas.pydata.org/pandas-docs/stable/generated/pandas.DataFrame.html\n",
    "# describe table\n",
    "print(df.shape)\n",
    "\n",
    "# subset columns\n",
    "print(df[\"spend\"])\n",
    "print(df[[\"customer_id\", \"spend\"]])\n",
    "\n",
    "# subset rows\n",
    "print(df.sample(n = 1))\n",
    "print(df.head(n = 1))"
   ]
  },
  {
   "cell_type": "code",
   "execution_count": 69,
   "metadata": {},
   "outputs": [
    {
     "name": "stdout",
     "output_type": "stream",
     "text": [
      "  country      date  experiment_id              order_id  spend_usd  \\\n",
      "0      JP  20170402       12624548   5813140433216629693  16.138855   \n",
      "1      US  20170403       12624549  16333056276711034931   9.990000   \n",
      "2      JP  20170404       12624548  11227119161741298366  19.887087   \n",
      "3      US  20170403       12624548  11927299833124210932  19.990000   \n",
      "4      JP  20170403       12624549  11644727017708872749  88.220093   \n",
      "5      FR  20170406       12624548   2887851716418524034  10.641677   \n",
      "6      US  20170406       12624548   8835194413765780524   9.990000   \n",
      "7      US  20170402       12624549   2761291987218019434  10.090000   \n",
      "8      US  20170405       12624548   9027895522629963459   9.990000   \n",
      "9      US  20170405       12624548   2588200289165850850  19.990000   \n",
      "\n",
      "                user_id      vertical  \n",
      "0   5006730028073359543  ANDROID_APPS  \n",
      "1   5938685669571545259  ANDROID_APPS  \n",
      "2  17623708458399141713  ANDROID_APPS  \n",
      "3  18042812344456618148  ANDROID_APPS  \n",
      "4   4325104700699531031  ANDROID_APPS  \n",
      "5  15563614621402392174  ANDROID_APPS  \n",
      "6    793284520969747371  ANDROID_APPS  \n",
      "7   4877509876568871706         MUSIC  \n",
      "8   3647559719307779196  ANDROID_APPS  \n",
      "9   3647559719307779196  ANDROID_APPS  \n"
     ]
    }
   ],
   "source": [
    "# select columns\n",
    "my_data = pd.read_csv('BA501_python_data.csv')\n",
    "# print(my_data[[\"user_id\",\"date\",\"spend_usd\"]].head(10))\n",
    "# print(my_data[\"user_id\"].head(10))\n",
    "# print(np.unique(my_data[\"country\"]))\n",
    "\n",
    "# select rows\n",
    "# print(my_data[1:10]) # the numbers are index, the left one is included in the returned list whereas the right one is not. \n",
    "# print(my_data[(my_data.user_id == 5006730028073359543) & (my_data.country == \"JP\")])\n",
    "\n",
    "# create new columns\n",
    "my_data['spend_usd_whole'] = my_data['spend_usd']*5\n",
    "# print(my_data.head(5))\n",
    "\n",
    "# drop this column\n",
    "my_data = my_data.drop(\"spend_usd_whole\", axis = 1) #'axis = 1' means it's a column;'axis = 0' means it's a row.\n",
    "print(my_data.head(10))"
   ]
  },
  {
   "cell_type": "code",
   "execution_count": 78,
   "metadata": {},
   "outputs": [
    {
     "name": "stdout",
     "output_type": "stream",
     "text": [
      "      country      date  experiment_id              order_id  spend_usd  \\\n",
      "2673       ZA  20170407       12624548  10408259180986743164   1.088080   \n",
      "13338      ZA  20170407       12624549  16400872559986890759   8.689793   \n",
      "13374      ZA  20170407       12624549  12381462873414547336   7.257980   \n",
      "13492      ZA  20170407       12624549  15719408519960453436   7.257980   \n",
      "14497      ZA  20170407       12624549    462012274643780937   4.717432   \n",
      "\n",
      "                    user_id      vertical  \n",
      "2673    3410001499694617342  ANDROID_APPS  \n",
      "13338  10774269234984234779  ANDROID_APPS  \n",
      "13374   7545696287574813995  ANDROID_APPS  \n",
      "13492  10854157887295607650  ANDROID_APPS  \n",
      "14497  10665734066659640439  ANDROID_APPS  \n"
     ]
    }
   ],
   "source": [
    "# select *: see \"select columns\"\n",
    "\n",
    "# where: see \"select rows\"\n",
    "\n",
    "# Groupby: groupby()\n",
    "result = my_data.groupby([\"country\"])[\"spend_usd\"].sum()\n",
    "# print(result)\n",
    "result = my_data.groupby([\"country\"])[\"spend_usd\"].sum().reset_index()\n",
    "# print(result)\n",
    "result = result.set_index(\"country\")\n",
    "# print(result)\n",
    "\n",
    "# save as a new dataframe, and reset your index\n",
    "# Order by: sort_values()\n",
    "my_data = my_data.sort_values(['country','date'],ascending=[False, False])\n",
    "my_data.head(5)\n",
    "print(my_data.head(5))\n",
    "# Join: merge()\n",
    "# left join\n",
    "#pd.merge(left_table, right_table,how='left',on='x1')\n",
    "\n",
    "# Union: concat(), stack()\n",
    "#pd.concat([left_table, right_table])"
   ]
  }
 ],
 "metadata": {
  "kernelspec": {
   "display_name": "Python 2",
   "language": "python",
   "name": "python2"
  },
  "language_info": {
   "codemirror_mode": {
    "name": "ipython",
    "version": 2
   },
   "file_extension": ".py",
   "mimetype": "text/x-python",
   "name": "python",
   "nbconvert_exporter": "python",
   "pygments_lexer": "ipython2",
   "version": "2.7.13"
  }
 },
 "nbformat": 4,
 "nbformat_minor": 2
}
